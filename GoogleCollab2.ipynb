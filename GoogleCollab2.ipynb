{
  "nbformat": 4,
  "nbformat_minor": 0,
  "metadata": {
    "colab": {
      "provenance": [],
      "gpuType": "T4"
    },
    "kernelspec": {
      "name": "python3",
      "display_name": "Python 3"
    },
    "language_info": {
      "name": "python"
    },
    "accelerator": "GPU",
    "gpuClass": "standard"
  },
  "cells": [
    {
      "cell_type": "code",
      "execution_count": 1,
      "metadata": {
        "colab": {
          "base_uri": "https://localhost:8080/"
        },
        "id": "xU1leLjlozq6",
        "outputId": "ac51515c-1f44-4ef1-ac67-ba71a1d5a071"
      },
      "outputs": [
        {
          "output_type": "stream",
          "name": "stdout",
          "text": [
            "using cuda device\n"
          ]
        }
      ],
      "source": [
        "import torch\n",
        "\n",
        "if torch.cuda.is_available():\n",
        "    device = torch.device(\"cuda\")\n",
        "else:\n",
        "    device = torch.device(\"cpu\")\n",
        "print(\"using\", device, \"device\") "
      ]
    },
    {
      "cell_type": "code",
      "source": [
        "import time\n",
        "\n",
        "matrix_size = 32*512\n",
        "\n",
        "x = torch.randn(matrix_size, matrix_size)\n",
        "y = torch.randn(matrix_size, matrix_size)\n",
        "\n",
        "print(\"************* CPU SPEED *******************\")\n",
        "start = time.time()\n",
        "result = torch.matmul(x, y)\n",
        "print(time.time() - start)\n",
        "print(\"verify device:\", result.device)\n",
        "\n",
        "x_gpu = x.to(device)\n",
        "y_gpu = y.to(device)\n",
        "torch.cuda.synchronize()\n",
        "\n",
        "for i in range(3):\n",
        "    print(\"************* GPU SPEED *******************\")\n",
        "    start = time.time()\n",
        "    result_gpu = torch.matmul(x_gpu, y_gpu)\n",
        "    torch.cuda.synchronize()\n",
        "    print(time.time() - start)\n",
        "    print(\"verify device:\", result_gpu.device)"
      ],
      "metadata": {
        "colab": {
          "base_uri": "https://localhost:8080/"
        },
        "id": "VL6aq6jHpxoK",
        "outputId": "8a2b9dc9-351b-44b6-f045-0ced7598da8c"
      },
      "execution_count": 2,
      "outputs": [
        {
          "output_type": "stream",
          "name": "stdout",
          "text": [
            "************* CPU SPEED *******************\n",
            "79.79518628120422\n",
            "verify device: cpu\n",
            "************* GPU SPEED *******************\n",
            "2.719747304916382\n",
            "verify device: cuda:0\n",
            "************* GPU SPEED *******************\n",
            "1.9910690784454346\n",
            "verify device: cuda:0\n",
            "************* GPU SPEED *******************\n",
            "2.1621572971343994\n",
            "verify device: cuda:0\n"
          ]
        }
      ]
    }
  ]
}